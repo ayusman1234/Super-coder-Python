{
 "cells": [
  {
   "cell_type": "code",
   "execution_count": 8,
   "id": "f773042f",
   "metadata": {},
   "outputs": [
    {
     "name": "stdout",
     "output_type": "stream",
     "text": [
      "101\n",
      "1331\n"
     ]
    }
   ],
   "source": [
    "def nearest_palindrome(number):\n",
    "    number=number+1\n",
    "    s=str(number)\n",
    "    if s == s[::-1]:\n",
    "        return number\n",
    "    else:\n",
    "        return nearest_palindrome(number)\n",
    "number=99\n",
    "print(nearest_palindrome(number))\n",
    "number=1221\n",
    "print(nearest_palindrome(number))"
   ]
  },
  {
   "cell_type": "code",
   "execution_count": 11,
   "id": "2196ac3c",
   "metadata": {},
   "outputs": [
    {
     "ename": "SyntaxError",
     "evalue": "invalid syntax (3883947784.py, line 7)",
     "output_type": "error",
     "traceback": [
      "\u001b[1;36m  File \u001b[1;32m\"C:\\Users\\Lenovo\\AppData\\Local\\Temp\\ipykernel_9804\\3883947784.py\"\u001b[1;36m, line \u001b[1;32m7\u001b[0m\n\u001b[1;33m    elif patient_medical_speciality_list[i] == 'O':\u001b[0m\n\u001b[1;37m    ^\u001b[0m\n\u001b[1;31mSyntaxError\u001b[0m\u001b[1;31m:\u001b[0m invalid syntax\n"
     ]
    }
   ],
   "source": [
    "def max_visited_speciality(patient_medical_speciality_list,medical_speciality):\n",
    "    result = [0,0,0]\n",
    "    i = 1 \n",
    "    while(i< len(patient_medical_speciality_list)):\n",
    "        if patient_medical_speciality_list[i] == 'P': \n",
    "            result[0] = result[0] + 1\n",
    "            elif patient_medical_speciality_list[i] == 'O':\n",
    "                result[1] = result[1] + 1\n",
    "                else : result[2] = result[2] + 1\n",
    "                    i = i + 2\n",
    "                    a = max(result)\n",
    "                    a = result.index(a)\n",
    "                    if a == 0:\n",
    "                        speciality ='Pediatrics'\n",
    "                        elif a == 1:\n",
    "                            speciality ='Orthopedics'\n",
    "                            else :\n",
    "                                speciality = 'ENT'\n",
    "                                return specialit\n",
    "                            patient_medical_speciality_list=[101,'O',302, 'P' ,305, 'P' ,401, 'E' ,656, 'E']\n",
    "                            patient_medical_speciality_list=[101,'O',102, 'O',302, 'P',305,'E',401,'O',656,'O']\n",
    "                            patient_medical_speciality_list=[101,'O',101, 'E',302,'P',305,'P',401,'E',656,'O',987,'E']\n",
    "                            medical_speciality={\"P\":\"Pediatrics\",\"O\":\"Orthopedics\",\"E\":\"ENT\"}\n",
    "                            speciality=max_visited_speciality(patient_medical_speciality_list,medical_speciality)\n",
    "                            print(speciality)\n"
   ]
  },
  {
   "cell_type": "code",
   "execution_count": 17,
   "id": "da14b084",
   "metadata": {},
   "outputs": [
    {
     "name": "stdout",
     "output_type": "stream",
     "text": [
      "Pediatrics\n"
     ]
    }
   ],
   "source": [
    "def max_visited_speciality(patient_medical_speciality_list,medical_speciality):\n",
    "    max_visit=0\n",
    "    P= patient_medical_speciality_list.count('P')\n",
    "    E= patient_medical_speciality_list.count('O')\n",
    "    O= patient_medical_speciality_list.count('E')\n",
    "    if P>E and P>0:\n",
    "        speciality = medical_speciality['P']\n",
    "    elif E>0:\n",
    "        speciality = medical_speciality['E']\n",
    "    else:\n",
    "        speciality = medical_speciality['O']\n",
    "    return speciality\n",
    "patient_medical_speciality_list=[301,'P',302, 'P' ,305, 'P' ,401, 'E' ,656, 'E']\n",
    "medical_speciality={\"P\":\"Pediatrics\",\"O\":\"Orthopedics\",\"E\":\"ENT\"}\n",
    "speciality=max_visited_speciality(patient_medical_speciality_list,medical_speciality)\n",
    "print(speciality)"
   ]
  },
  {
   "cell_type": "code",
   "execution_count": 29,
   "id": "be545e38",
   "metadata": {},
   "outputs": [],
   "source": [
    "def find_common_characters(s1,s2):\n",
    "    list=[]\n",
    "    for x in s1:\n",
    "        if x==\"I like python \":\n",
    "            continue\n",
    "        else:\n",
    "            for y in s2:\n",
    "                if x == \"Java is a very popular language \":\n",
    "                    continue\n",
    "                elif x == y:\n",
    "                    if x in list:\n",
    "                        break\n",
    "                    else:\n",
    "                        list.append(x)\n",
    "                        break\n",
    "    output=\"\".join(list)\n",
    "    if len(output)==0:\n",
    "        return -1\n",
    "    else:\n",
    "        return output\n",
    "    s1=\"I like python\"\n",
    "    s2=\"Java is a very popular language\"\n",
    "    common_characters=find_common_characters(s1,s2)\n",
    "    print(common_characters)"
   ]
  },
  {
   "cell_type": "code",
   "execution_count": 22,
   "id": "27b6ad06",
   "metadata": {},
   "outputs": [],
   "source": [
    "def find_common_characters(s1,s2):\n",
    "    output=''\n",
    "    for element in msg1:\n",
    "        if element != '':\n",
    "            if element in msg2:\n",
    "                if not element in output:\n",
    "                    output+=element\n",
    "                    if output == '':\n",
    "                        return -1\n",
    "                    return output\n",
    "                msg1=\"I like python\"\n",
    "                msg2=\"Java is a very popular language\"\n",
    "                common_characters=find_common_characters(msg1,msg2)\n",
    "                print(common_characters)"
   ]
  },
  {
   "cell_type": "code",
   "execution_count": 31,
   "id": "9ffb3135",
   "metadata": {},
   "outputs": [],
   "source": [
    "def find_common_characters(s1,s2):\n",
    "    list=[]\n",
    "    for x in s1:\n",
    "        if x==\" \":\n",
    "            continue\n",
    "        else:\n",
    "            for y in s2:\n",
    "                if x == \" \":\n",
    "                    continue\n",
    "                elif x == y:\n",
    "                    if x in list:\n",
    "                        break\n",
    "                    else:\n",
    "                        list.append(x)\n",
    "                        break\n",
    "    output=\"\".join(list)\n",
    "    if len(output)==0:\n",
    "        return -1\n",
    "    else:\n",
    "        return output\n",
    "    s1=\"I like python\"\n",
    "    s2=\"Java is a very popular language\"\n",
    "    common_characters=find_common_characters(s1,s2)\n",
    "    print(common_characters)"
   ]
  },
  {
   "cell_type": "code",
   "execution_count": 38,
   "id": "79626485",
   "metadata": {},
   "outputs": [
    {
     "ename": "IndentationError",
     "evalue": "expected an indented block (433834540.py, line 2)",
     "output_type": "error",
     "traceback": [
      "\u001b[1;36m  File \u001b[1;32m\"C:\\Users\\Lenovo\\AppData\\Local\\Temp\\ipykernel_9804\\433834540.py\"\u001b[1;36m, line \u001b[1;32m2\u001b[0m\n\u001b[1;33m    def __init__(self,num):\u001b[0m\n\u001b[1;37m    ^\u001b[0m\n\u001b[1;31mIndentationError\u001b[0m\u001b[1;31m:\u001b[0m expected an indented block\n"
     ]
    }
   ],
   "source": [
    "class Example:\n",
    "def __init__(self,num):\n",
    "    self.num=num\n",
    "def set_num(self,num):\n",
    "    self.num=num\n",
    "def get_num(self):\n",
    "    return self.num\n",
    "obj=Example(10)\n",
    "print(obj.get_num())\n",
    "obj.set_num(15)\n",
    "print(obj.get_num())"
   ]
  },
  {
   "cell_type": "code",
   "execution_count": 39,
   "id": "b3d56c5a",
   "metadata": {},
   "outputs": [],
   "source": [
    "class Customer:\n",
    "    def __init__(self):\n",
    "        cust_id=100\n",
    "        c1=customer()\n",
    "        print(c1.cust_id)"
   ]
  },
  {
   "cell_type": "code",
   "execution_count": 40,
   "id": "fa35553b",
   "metadata": {},
   "outputs": [
    {
     "name": "stdout",
     "output_type": "stream",
     "text": [
      "100\n"
     ]
    }
   ],
   "source": [
    "class Customer:\n",
    "    def __init__(self):\n",
    "        self.cust_id=100\n",
    "c1=Customer()\n",
    "print(c1.cust_id)"
   ]
  },
  {
   "cell_type": "code",
   "execution_count": 44,
   "id": "d55b0eac",
   "metadata": {},
   "outputs": [
    {
     "name": "stdout",
     "output_type": "stream",
     "text": [
      "My fav is Learning Python\n",
      "Your's is Learn Python the hard way\n"
     ]
    }
   ],
   "source": [
    "class Book:\n",
    "    def __init__(self):\n",
    "        self.title=None\n",
    "my_fav=Book()\n",
    "my_fav.title=\"Head First Programming\"\n",
    "your_fav=Book()\n",
    "your_fav.title=\"Learn Python the hard way\"\n",
    "my_fav.title=\"Learning Python\"\n",
    "print(\"My fav is\",my_fav.title)\n",
    "print(\"Your's is\",your_fav.title)"
   ]
  },
  {
   "cell_type": "code",
   "execution_count": 56,
   "id": "15e1bbe1",
   "metadata": {},
   "outputs": [
    {
     "name": "stdout",
     "output_type": "stream",
     "text": [
      "<__main__.Car object at 0x0000024B8ED5DBE0>\n",
      "100000000 mukul\n"
     ]
    }
   ],
   "source": [
    "class Car:\n",
    "    def __init__(self,price,material):\n",
    "        self.price= price\n",
    "        self.material= material\n",
    "s=Car(100000000,\"mukul\")\n",
    "print(s)\n",
    "print(s.price,s.material)"
   ]
  },
  {
   "cell_type": "code",
   "execution_count": 69,
   "id": "7c3e3019",
   "metadata": {},
   "outputs": [
    {
     "name": "stdout",
     "output_type": "stream",
     "text": [
      "Shoe with price: 1000 and material: Duke, food is: Biriyani\n"
     ]
    }
   ],
   "source": [
    "class Shoe:\n",
    "    def __init__(self,price,material,food):\n",
    "        self.price= price\n",
    "        self.material= material\n",
    "        self.food=food\n",
    "    def __str__(self):\n",
    "            return \"Shoe with price: \"+ str(self.price)+ \" and material: \"+ self.material+\", food is: \" +str(self.food)\n",
    "s=Shoe(1000,\"Duke\",\"Biriyani\")\n",
    "print(s)"
   ]
  },
  {
   "cell_type": "code",
   "execution_count": 75,
   "id": "58131bce",
   "metadata": {},
   "outputs": [
    {
     "name": "stdout",
     "output_type": "stream",
     "text": [
      "2523542536144\n",
      "Displaying details\n",
      "Calculating Price\n",
      "2523542535040\n",
      "Displaying details\n",
      "Calculating Price\n"
     ]
    }
   ],
   "source": [
    "class Mobile:\n",
    "    def __init__(self):\n",
    "        print(id(self))\n",
    "    def display(self):\n",
    "        print(\"Displaying details\")\n",
    "    def purchase(self):\n",
    "        self.display()\n",
    "        print(\"Calculating Price\")\n",
    "Mobile().purchase()\n",
    "Mobile().purchase()"
   ]
  },
  {
   "cell_type": "code",
   "execution_count": 76,
   "id": "f827a611",
   "metadata": {},
   "outputs": [
    {
     "name": "stdout",
     "output_type": "stream",
     "text": [
      "Total price of Apple mobile is 9000.0\n",
      "Total price of Samsung mobile is 28500.0\n"
     ]
    }
   ],
   "source": [
    "class Mobile:\n",
    "    def __init__(self ,brand,price):\n",
    "        self.brand=brand\n",
    "        self.price=price\n",
    "        self.total_price=None\n",
    "    def purchase(self):\n",
    "            if self.brand==\"Apple\":\n",
    "                discount=10\n",
    "            else:\n",
    "                discount=5\n",
    "            self.total_price=self.price-self.price*(discount/100)\n",
    "            print(\"Total price of\",self.brand,\"mobile is\",self.total_price)\n",
    "mob1=Mobile(\"Apple\",10000)\n",
    "mob2=Mobile(\"Samsung\",30000)\n",
    "mob1.purchase()\n",
    "mob2.purchase()\n",
    "            \n",
    "                    \n",
    "            "
   ]
  },
  {
   "cell_type": "code",
   "execution_count": 86,
   "id": "484a608c",
   "metadata": {},
   "outputs": [
    {
     "name": "stdout",
     "output_type": "stream",
     "text": [
      "The balance is  1500\n"
     ]
    }
   ],
   "source": [
    "class Customer:\n",
    "    def __init__(self, cust_id, name, age, wallet_balance):\n",
    "        self.cust_id= cust_id\n",
    "        self.name=name\n",
    "        self.age=age\n",
    "        self.wallet_balance = wallet_balance\n",
    "    def update_balance(self, amount):\n",
    "        if amount < 1000 and amount > 0:\n",
    "            self.wallet_balance += amount\n",
    "    def show_balance(self):\n",
    "            print(\"The balance is \",self.wallet_balance)\n",
    "c1=Customer(100, \"Gopal\", 24, 1000)\n",
    "c1.update_balance(500)\n",
    "c1.show_balance()"
   ]
  },
  {
   "cell_type": "code",
   "execution_count": 88,
   "id": "739f5e68",
   "metadata": {},
   "outputs": [
    {
     "name": "stdout",
     "output_type": "stream",
     "text": [
      "1000\n",
      "1000\n"
     ]
    }
   ],
   "source": [
    "class Customer:\n",
    "    def __init__(self, cust_id, name, age, wallet_balance):\n",
    "        self.cust_id= cust_id\n",
    "        self.name=name\n",
    "        self.age=age\n",
    "        self.__wallet_balance = wallet_balance\n",
    "    def set_balance (self, amount):\n",
    "        if amount < 1000 and amount > 0:\n",
    "            self.__wallet_balance += amount\n",
    "    def show_balance (self):\n",
    "            print(\"The balance is \", self.__wallet_balance)\n",
    "    def get_wallet_balance(self):\n",
    "        return self.__wallet_balance\n",
    "c1=Customer(100, \"Gopal\", 24, 1000)\n",
    "print(c1.get_wallet_balance())\n",
    "c1.set_balance(5000)\n",
    "print(c1.get_wallet_balance())"
   ]
  },
  {
   "cell_type": "code",
   "execution_count": 89,
   "id": "8cb090b8",
   "metadata": {},
   "outputs": [],
   "source": [
    "class Table:\n",
    "    def _init_(self):\n",
    "        self.no_of_legs=4\n",
    "        self._glass_top=None\n",
    "        self._wooden_top=None\n",
    "    def assign_data(self, glass_top, wooden_top):\n",
    "        self._glass_top=glass_top\n",
    "        self._wooden_top=wooden_top\n",
    "    def identify_rate (self, glass_top, wooden_top):\n",
    "        self.assign_data(glass_top, wooden_top)\n",
    "        if (self._glass_top==True):\n",
    "            rate = 20000\n",
    "        elif (self._wooden_top==True):\n",
    "            rate = 30000\n",
    "        else:\n",
    "            rate=0\n",
    "        return rate\n",
    "\n"
   ]
  },
  {
   "cell_type": "code",
   "execution_count": 98,
   "id": "f157dccf",
   "metadata": {},
   "outputs": [
    {
     "name": "stdout",
     "output_type": "stream",
     "text": [
      "<__main__.Table object at 0x0000024B8EE91C10> <__main__.Table object at 0x0000024B8ED53F40> <__main__.Table object at 0x0000024B8ED53A90>\n"
     ]
    }
   ],
   "source": [
    "class Table:\n",
    "    def __init__(self):\n",
    "        self.no_of_legs=4\n",
    "        self.glass_top=None\n",
    "        self.wooden_top=None\n",
    "dining_table=Table()\n",
    "front_table=Table() \n",
    "back_table=dining_Table \n",
    "print(dining_table, back_table, front_table)"
   ]
  },
  {
   "cell_type": "code",
   "execution_count": null,
   "id": "61a31fd5",
   "metadata": {},
   "outputs": [],
   "source": []
  }
 ],
 "metadata": {
  "kernelspec": {
   "display_name": "Python 3 (ipykernel)",
   "language": "python",
   "name": "python3"
  },
  "language_info": {
   "codemirror_mode": {
    "name": "ipython",
    "version": 3
   },
   "file_extension": ".py",
   "mimetype": "text/x-python",
   "name": "python",
   "nbconvert_exporter": "python",
   "pygments_lexer": "ipython3",
   "version": "3.9.13"
  }
 },
 "nbformat": 4,
 "nbformat_minor": 5
}
