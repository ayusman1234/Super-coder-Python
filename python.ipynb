{
 "cells": [
  {
   "cell_type": "code",
   "execution_count": 1,
   "id": "3fff87d5",
   "metadata": {},
   "outputs": [
    {
     "name": "stdout",
     "output_type": "stream",
     "text": [
      "3,2,6,5,1,4,8,9\n",
      "20\n",
      "[5, 1, 4, 8]\n",
      "5168\n"
     ]
    }
   ],
   "source": [
    "ara = list(map(int,input().split(\",\")))\n",
    "num1 = sum(ara[:ara.index(5)])+sum(ara[ara.index(8)+1:])\n",
    "print(num1)\n",
    "l = ara[ara.index(5):ara.index(8)+1]\n",
    "print(l)\n",
    "num2 = \"\"\n",
    "for i in l:\n",
    "    num2+=str(i)\n",
    "print(int(num2)+num1)\n"
   ]
  },
  {
   "cell_type": "code",
   "execution_count": 2,
   "id": "dae26d4a",
   "metadata": {},
   "outputs": [
    {
     "name": "stdout",
     "output_type": "stream",
     "text": [
      "rhdt:246\n",
      "trhd\n"
     ]
    }
   ],
   "source": [
    "def sumSqrDigit(num):\n",
    "    X = int(num)\n",
    "    N = 0\n",
    "    while(X>0):\n",
    "        rev = X%10\n",
    "        rev *= rev\n",
    "        N += rev\n",
    "        X = X//10\n",
    "    return N\n",
    "def rotateRight(string):\n",
    "        n=''\n",
    "        x=''\n",
    "        n+=string[-1]\n",
    "        x+=string[:-1:]\n",
    "        x=n+x\n",
    "        return x\n",
    "def rotateLeft(string):\n",
    "        n=''\n",
    "        x=''\n",
    "        n+=string[:2]\n",
    "        x+=string[2:]\n",
    "        x+=n\n",
    "        return x\n",
    "series = input().split(':')\n",
    "for i in series:\n",
    "    if(i.isdigit()):\n",
    "        n=i\n",
    "    else:\n",
    "        stg=i\n",
    "if(sumSqrDigit(n)%2==0):\n",
    "    print(rotateRight(stg))\n",
    "else:\n",
    "    print(rotateLeft(stg))\n"
   ]
  },
  {
   "cell_type": "code",
   "execution_count": 10,
   "id": "c5b4f867",
   "metadata": {},
   "outputs": [
    {
     "ename": "IndentationError",
     "evalue": "unindent does not match any outer indentation level (<tokenize>, line 10)",
     "output_type": "error",
     "traceback": [
      "\u001b[1;36m  File \u001b[1;32m\"<tokenize>\"\u001b[1;36m, line \u001b[1;32m10\u001b[0m\n\u001b[1;33m    elif(num%i==0):\u001b[0m\n\u001b[1;37m    ^\u001b[0m\n\u001b[1;31mIndentationError\u001b[0m\u001b[1;31m:\u001b[0m unindent does not match any outer indentation level\n"
     ]
    }
   ],
   "source": [
    "def find_factors(num):\n",
    "    factors = []\n",
    "    for i in range(2,(num+1)):\n",
    "        if(num%i==0):\n",
    "        factors.append(i)\n",
    "            return factors\n",
    "def is_prime(num, i):\n",
    "     if(i==1):\n",
    "            return True\n",
    "        elif(num%i==0):\n",
    "            return False;\n",
    "        else:\n",
    "            return(is_prime(num,i-1))\n",
    "def find_largest_prime_factor(list_of_factors):\n",
    "    large=[]\n",
    "    for i in list_of_factors:\n",
    "        if is_prime(i,i//2)==True:\n",
    "            large.append(i)\n",
    "            return max(large)\n",
    "def find_f(num):\n",
    "    f=find_factors(num)\n",
    "    l=find_largest_prime_factor(f)\n",
    "    return l\n",
    "\n",
    "def find_g(num):\n",
    "    sum=0\n",
    "    consicutive=[i for i in range(num,num+9)]\n",
    "    for i in consicutive:\n",
    "        largest_prime_factor=find_f(i)\n",
    "        sum=sum+largest_prime_factor\n",
    "        return sum\n",
    "    print(find_g(10))"
   ]
  },
  {
   "cell_type": "code",
   "execution_count": null,
   "id": "b7a9196d",
   "metadata": {},
   "outputs": [],
   "source": []
  },
  {
   "cell_type": "code",
   "execution_count": null,
   "id": "ee707c32",
   "metadata": {},
   "outputs": [],
   "source": []
  },
  {
   "cell_type": "code",
   "execution_count": null,
   "id": "79e668d3",
   "metadata": {},
   "outputs": [],
   "source": []
  }
 ],
 "metadata": {
  "kernelspec": {
   "display_name": "Python 3 (ipykernel)",
   "language": "python",
   "name": "python3"
  },
  "language_info": {
   "codemirror_mode": {
    "name": "ipython",
    "version": 3
   },
   "file_extension": ".py",
   "mimetype": "text/x-python",
   "name": "python",
   "nbconvert_exporter": "python",
   "pygments_lexer": "ipython3",
   "version": "3.9.13"
  }
 },
 "nbformat": 4,
 "nbformat_minor": 5
}
